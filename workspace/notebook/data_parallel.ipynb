{
 "cells": [
  {
   "cell_type": "code",
   "execution_count": 33,
   "id": "54d188f1-d829-4479-b45f-a861c9ce0671",
   "metadata": {},
   "outputs": [
    {
     "name": "stdout",
     "output_type": "stream",
     "text": [
      "variables:\n",
      "  global_cycle_seconds: 1e-9\n",
      "  technology: \"45nm\"\n",
      "\n",
      "architecture:\n",
      "  version: 0.4\n",
      "  nodes:\n",
      "  - !Component\n",
      "    name: MainMemory\n",
      "    class: DRAM\n",
      "    attributes: {width: 256, block_size: 32, word_bits: 8, datawidth: 8}\n",
      "    required_actions: ['read', 'write']\n",
      "  - !Component\n",
      "    name: GlobalBuffer\n",
      "    class: SRAM\n",
      "    attributes:\n",
      "        depth: 8192\n",
      "        width: 256\n",
      "        block_size: 32\n",
      "        word_bits: 8\n",
      "        datawidth: 8\n",
      "        n_rdwr_ports: 2\n",
      "        n_rd_ports: 0\n",
      "        n_wr_ports: 0\n",
      "    required_actions: ['read', 'write']\n",
      "  - !Component\n",
      "    name: MACC\n",
      "    class: intmac\n",
      "    attributes:\n",
      "        datawidth: 8\n",
      "        width: 16\n",
      "        cycle_time: 1e-9\n",
      "    required_actions: ['compute']\n"
     ]
    }
   ],
   "source": [
    "from util import *\n",
    "from pprint import pp\n",
    "architecture = 'architecture.yaml'\n",
    "workload = 'Configs/two_fc.workload.yaml'\n",
    "mapping = 'Configs/data_parallel_fc.mapping.yaml'\n",
    "\n",
    "show_config(architecture)"
   ]
  },
  {
   "cell_type": "code",
   "execution_count": 34,
   "id": "26d60812-4a04-47f3-a677-83ef2da3abed",
   "metadata": {},
   "outputs": [
    {
     "name": "stdout",
     "output_type": "stream",
     "text": [
      "problem:\n",
      "  - shape:\n",
      "      name: Fc1\n",
      "      dimensions: [ P1, M1, C1 ]\n",
      "      data_spaces:\n",
      "      - name: Fmap1\n",
      "        dimensions: [ Fmap1_C, Fmap1_P ]\n",
      "        projection: '[ C1, P1 ]'\n",
      "      - name: Filter1\n",
      "        dimensions: [ Filter1_C, Filter1_M ]\n",
      "        projection: '[ C1, M1 ]'\n",
      "      - name: Fmap2\n",
      "        dimensions: [ Fmap2_C, Fmap2_P ]\n",
      "        projection: '[ M1, P1 ]'\n",
      "        read_write: True\n",
      "\n",
      "    instance: >-\n",
      "      0 <= P1 < 128 and 0 <= M1 < 64 and 0 <= C1 < 64\n",
      "\n",
      "  - shape:\n",
      "      name: Fc2\n",
      "      dimensions: [ P2, M2, C2 ]\n",
      "      data_spaces:\n",
      "      - name: Fmap2\n",
      "        dimensions: [ Fmap2_C, Fmap2_P ]\n",
      "        projection: '[ C2, P2 ]'\n",
      "      - name: Filter2\n",
      "        dimensions: [ Filter2_C, Filter2_M ]\n",
      "        projection: '[ C2, M2 ]'\n",
      "      - name: Fmap3\n",
      "        dimensions: [ Fmap3_C, Fmap3_P ]\n",
      "        projection: '[ M2, P2 ]'\n",
      "        read_write: True\n",
      "\n",
      "    instance: >-\n",
      "      0 <= P2 < 128 and 0 <= M2 < 64 and 0 <= C2 < 64\n",
      "\n"
     ]
    }
   ],
   "source": [
    "show_config(workload)"
   ]
  },
  {
   "cell_type": "code",
   "execution_count": 35,
   "id": "2e217132-d1c2-4ae7-879b-a92b0a39a4fc",
   "metadata": {
    "scrolled": true
   },
   "outputs": [
    {
     "name": "stdout",
     "output_type": "stream",
     "text": [
      "mapping:\n",
      "  type: fused\n",
      "  nodes:\n",
      "  - type: storage\n",
      "    target: 0  # level 0 is bound to global DRAM\n",
      "    dspace: [Filter1, Filter2, Fmap1, Fmap3] #-------- node 2.a\n",
      "  - type: storage\n",
      "    target: 1  # level 1 is bound to DRAM\n",
      "    dspace: [Filter1, Filter2]\n",
      "  - type: temporal #---------------------------------- node 2.b\n",
      "    rank: P2\n",
      "    tile_shape: 1\n",
      "  - type: storage  #---------------------------------- node 2.c\n",
      "    target: 1  # level 1 is bound to DRAM\n",
      "    dspace: [Fmap1, Fmap2, Fmap3]\n",
      "  - type: sequential  #------------------------------- node 2.d\n",
      "    branches:\n",
      "    - - type: spatial\n",
      "        rank: C1\n",
      "        tile_shape: 16 #---------------------- split into 4 tiles along channels\n",
      "      - type: temporal\n",
      "        rank: M1\n",
      "        tile_shape: 1\n",
      "      - type: compute\n",
      "        einsum: Fc1\n",
      "        target: 2  # level 3 is bound to MACC\n",
      "    - - type: spatial\n",
      "        rank: C2\n",
      "        tile_shape: 16\n",
      "      - type: temporal\n",
      "        rank: M2\n",
      "        tile_shape: 1\n",
      "      - type: compute\n",
      "        einsum: Fc2\n",
      "        target: 2  # level 3 is bound to MACC\n"
     ]
    }
   ],
   "source": [
    "show_config(mapping)"
   ]
  },
  {
   "cell_type": "code",
   "execution_count": 36,
   "id": "b3512925-e019-4898-8de3-ae4579794a9c",
   "metadata": {},
   "outputs": [],
   "source": [
    "from pytimeloop.looptree.run import run_looptree\n",
    "\n",
    "bindings = {\n",
    "    0: 'MainMemory',\n",
    "    1: 'GlobalBuffer',\n",
    "    2: 'MACC'\n",
    "}"
   ]
  },
  {
   "cell_type": "code",
   "execution_count": 37,
   "id": "b1e4cc5b-62f5-40bc-aacc-991f96bbc576",
   "metadata": {},
   "outputs": [
    {
     "name": "stdout",
     "output_type": "stream",
     "text": [
      "Latency: 16384\n",
      "Energy:\n",
      "{('MainMemory', 'read'): 33554432.0,\n",
      " ('GlobalBuffer', 'read'): 255179358.208,\n",
      " ('GlobalBuffer', 'write'): 3771662.336,\n",
      " ('MainMemory', 'write'): 16777216.0,\n",
      " ('MACC', 'compute'): 3434086.4}\n"
     ]
    }
   ],
   "source": [
    "stats = run_looptree(\n",
    "    CONFIG_DIR,\n",
    "    [architecture, workload, mapping],\n",
    "    TMP_DIR,\n",
    "    bindings,\n",
    "    call_accelergy=True\n",
    ")\n",
    "print('Latency:', stats.latency)\n",
    "print('Energy:')\n",
    "pp(stats.energy)"
   ]
  },
  {
   "cell_type": "code",
   "execution_count": 44,
   "id": "245a4a6e-82a0-479e-8685-00bf09562d44",
   "metadata": {},
   "outputs": [],
   "source": [
    "architecture = 'architecture.yaml'\n",
    "workload = 'Configs/transformer.workload.yaml'\n",
    "# workload = 'Configs/two_fc.workload.yaml'\n",
    "mapping = 'Configs/data_parallel_transformer.mapping.yaml'\n",
    "# mapping = 'Configs/data_parallel_fc.mapping.yaml'"
   ]
  },
  {
   "cell_type": "code",
   "execution_count": 45,
   "id": "21a4d852-3abe-4cba-8178-082800a1b393",
   "metadata": {},
   "outputs": [
    {
     "ename": "RuntimeError",
     "evalue": "yaml-cpp: error at line ",
     "output_type": "error",
     "traceback": [
      "\u001b[0;31m---------------------------------------------------------------------------\u001b[0m",
      "\u001b[0;31mRuntimeError\u001b[0m                              Traceback (most recent call last)",
      "Cell \u001b[0;32mIn[45], line 1\u001b[0m\n\u001b[0;32m----> 1\u001b[0m stats \u001b[38;5;241m=\u001b[39m \u001b[43mrun_looptree\u001b[49m\u001b[43m(\u001b[49m\n\u001b[1;32m      2\u001b[0m \u001b[43m    \u001b[49m\u001b[43mCONFIG_DIR\u001b[49m\u001b[43m,\u001b[49m\n\u001b[1;32m      3\u001b[0m \u001b[43m    \u001b[49m\u001b[43m[\u001b[49m\u001b[43marchitecture\u001b[49m\u001b[43m,\u001b[49m\u001b[43m \u001b[49m\u001b[43mworkload\u001b[49m\u001b[43m,\u001b[49m\u001b[43m \u001b[49m\u001b[43mmapping\u001b[49m\u001b[43m]\u001b[49m\u001b[43m,\u001b[49m\n\u001b[1;32m      4\u001b[0m \u001b[43m    \u001b[49m\u001b[43mTMP_DIR\u001b[49m\u001b[43m,\u001b[49m\n\u001b[1;32m      5\u001b[0m \u001b[43m    \u001b[49m\u001b[43mbindings\u001b[49m\u001b[43m,\u001b[49m\n\u001b[1;32m      6\u001b[0m \u001b[43m    \u001b[49m\u001b[43mcall_accelergy\u001b[49m\u001b[38;5;241;43m=\u001b[39;49m\u001b[38;5;28;43;01mTrue\u001b[39;49;00m\n\u001b[1;32m      7\u001b[0m \u001b[43m)\u001b[49m\n\u001b[1;32m      8\u001b[0m \u001b[38;5;28mprint\u001b[39m(\u001b[38;5;124m'\u001b[39m\u001b[38;5;124mLatency:\u001b[39m\u001b[38;5;124m'\u001b[39m, stats\u001b[38;5;241m.\u001b[39mlatency)\n\u001b[1;32m      9\u001b[0m \u001b[38;5;28mprint\u001b[39m(\u001b[38;5;124m'\u001b[39m\u001b[38;5;124mEnergy:\u001b[39m\u001b[38;5;124m'\u001b[39m)\n",
      "File \u001b[0;32m/usr/local/lib/python3.10/dist-packages/pytimeloop/looptree/run.py:31\u001b[0m, in \u001b[0;36mrun_looptree\u001b[0;34m(config_dir, paths, tmp_path, bindings, call_accelergy)\u001b[0m\n\u001b[1;32m     29\u001b[0m \u001b[38;5;28;01mdef\u001b[39;00m\u001b[38;5;250m \u001b[39m\u001b[38;5;21mrun_looptree\u001b[39m(config_dir, paths, tmp_path, bindings, call_accelergy):\n\u001b[1;32m     30\u001b[0m     yaml_str \u001b[38;5;241m=\u001b[39m gather_yaml_configs(config_dir, paths)\n\u001b[0;32m---> 31\u001b[0m     config \u001b[38;5;241m=\u001b[39m \u001b[43mConfig\u001b[49m\u001b[43m(\u001b[49m\u001b[43myaml_str\u001b[49m\u001b[43m,\u001b[49m\u001b[43m \u001b[49m\u001b[38;5;124;43m'\u001b[39;49m\u001b[38;5;124;43myaml\u001b[39;49m\u001b[38;5;124;43m'\u001b[39;49m\u001b[43m)\u001b[49m\n\u001b[1;32m     32\u001b[0m     model \u001b[38;5;241m=\u001b[39m LooptreeModelApp(config)\n\u001b[1;32m     34\u001b[0m     workload \u001b[38;5;241m=\u001b[39m LooptreeWorkload\u001b[38;5;241m.\u001b[39mparse_cfg(config\u001b[38;5;241m.\u001b[39mroot[\u001b[38;5;124m'\u001b[39m\u001b[38;5;124mproblem\u001b[39m\u001b[38;5;124m'\u001b[39m])\n",
      "\u001b[0;31mRuntimeError\u001b[0m: yaml-cpp: error at line "
     ]
    }
   ],
   "source": [
    "stats = run_looptree(\n",
    "    CONFIG_DIR,\n",
    "    [architecture, workload, mapping],\n",
    "    TMP_DIR,\n",
    "    bindings,\n",
    "    call_accelergy=True\n",
    ")\n",
    "print('Latency:', stats.latency)\n",
    "print('Energy:')\n",
    "pp(stats.energy)"
   ]
  },
  {
   "cell_type": "code",
   "execution_count": null,
   "id": "3064ef48-b289-4c9b-b34b-4762ae3795d5",
   "metadata": {},
   "outputs": [],
   "source": []
  }
 ],
 "metadata": {
  "kernelspec": {
   "display_name": "Python 3 (ipykernel)",
   "language": "python",
   "name": "python3"
  },
  "language_info": {
   "codemirror_mode": {
    "name": "ipython",
    "version": 3
   },
   "file_extension": ".py",
   "mimetype": "text/x-python",
   "name": "python",
   "nbconvert_exporter": "python",
   "pygments_lexer": "ipython3",
   "version": "3.10.12"
  }
 },
 "nbformat": 4,
 "nbformat_minor": 5
}

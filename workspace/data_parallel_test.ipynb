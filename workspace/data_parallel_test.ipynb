{
 "cells": [
  {
   "cell_type": "code",
   "execution_count": 2,
   "id": "fccb7e95-8000-413b-b54a-61104be626ce",
   "metadata": {},
   "outputs": [
    {
     "name": "stdout",
     "output_type": "stream",
     "text": [
      "Help on function run_looptree in module pytimeloop.looptree.run:\n",
      "\n",
      "run_looptree(config_dir, paths, tmp_path, bindings, call_accelergy)\n",
      "\n"
     ]
    }
   ],
   "source": [
    "from pathlib import Path\n",
    "from pytimeloop.looptree.run import run_looptree\n",
    "\n",
    "architecture = 'Configs/gpu.yaml'\n",
    "transformer_workload = 'Configs/transformer.workload.yaml'\n",
    "transformer_mapping = 'Configs/data_parallel_transformer.mapping.yaml'\n",
    "fc_mapping = 'Configs/data_parallel_fc.mapping.yaml'\n",
    "fc_workload = 'Configs/two_fc.workload.yaml'\n",
    "\n",
    "bindings = {\n",
    "    0: 'MainMemory',\n",
    "    1: 'GlobalBuffer',\n",
    "    2: 'MACC'\n",
    "}\n",
    "\n",
    "help(run_looptree)"
   ]
  },
  {
   "cell_type": "markdown",
   "id": "8cbd53aa-bc4a-406c-8ca2-8178d6ebf191",
   "metadata": {},
   "source": [
    "# 32 GPUs"
   ]
  },
  {
   "cell_type": "code",
   "execution_count": 6,
   "id": "3db54683-17ba-4bdc-a1ce-605ea883dd98",
   "metadata": {},
   "outputs": [
    {
     "name": "stdout",
     "output_type": "stream",
     "text": [
      "Latency: 1906943.9964244796\n",
      "Energy: {('MainMemory', 'read'): 1114678231040.0, ('GlobalBuffer', 'read'): 6598143508480.0, ('GlobalBuffer', 'write'): 1958639304704.0, ('MainMemory', 'write'): 292057776128.0, ('MACC', 'compute'): 82366735319.04001}\n"
     ]
    }
   ],
   "source": [
    "num_gpus=32\n",
    "stats = run_looptree(\n",
    "    Path('configs'),\n",
    "    [architecture, transformer_workload, transformer_mapping],\n",
    "    Path('tmp'),\n",
    "    bindings,\n",
    "    call_accelergy=True\n",
    ")\n",
    "print('Latency:', stats.latency)\n",
    "print('Energy:', stats.energy)"
   ]
  },
  {
   "cell_type": "code",
   "execution_count": 23,
   "id": "97c656e1-4693-449b-9565-ae29ff1d5258",
   "metadata": {},
   "outputs": [
    {
     "name": "stdout",
     "output_type": "stream",
     "text": [
      "Latency: 7562239.985820799\n",
      "Energy: {('MainMemory', 'read'): 241591910400.0, ('GlobalBuffer', 'read'): 32224602750976.0, ('GlobalBuffer', 'write'): 722628247552.0, ('MainMemory', 'write'): 1073741824.0, ('MACC', 'compute'): 768756196311.04}\n"
     ]
    }
   ],
   "source": [
    "num_gpus=32\n",
    "stats = run_looptree(\n",
    "    Path('configs'),\n",
    "    [architecture, fc_workload, fc_mapping],\n",
    "    Path('tmp'),\n",
    "    bindings,\n",
    "    call_accelergy=True\n",
    ")\n",
    "print('Latency:', stats.latency)\n",
    "print('Energy:', stats.energy)"
   ]
  },
  {
   "cell_type": "markdown",
   "id": "0723b754-ff3e-40f2-9297-ad5a41ce0bbb",
   "metadata": {},
   "source": [
    "# 16 GPUs"
   ]
  },
  {
   "cell_type": "code",
   "execution_count": 5,
   "id": "a7933d49-e06c-43f5-a58f-8f70cbf81106",
   "metadata": {},
   "outputs": [
    {
     "name": "stdout",
     "output_type": "stream",
     "text": [
      "Latency: 1906943.9964244796\n",
      "Energy: {('MainMemory', 'read'): 1114678231040.0, ('GlobalBuffer', 'read'): 6598143508480.0, ('GlobalBuffer', 'write'): 1958639304704.0, ('MainMemory', 'write'): 292057776128.0, ('MACC', 'compute'): 82366735319.04001}\n"
     ]
    }
   ],
   "source": [
    "stats = run_looptree(\n",
    "    Path('configs'),\n",
    "    [architecture, transformer_workload, transformer_mapping],\n",
    "    Path('tmp'),\n",
    "    bindings,\n",
    "    call_accelergy=True\n",
    ")\n",
    "print('Latency:', stats.latency)\n",
    "print('Energy:', stats.energy)"
   ]
  },
  {
   "cell_type": "code",
   "execution_count": 3,
   "id": "3d7721d3-71aa-4b69-8bc8-b8235ffc6ca8",
   "metadata": {},
   "outputs": [
    {
     "name": "stdout",
     "output_type": "stream",
     "text": [
      "Latency: 14680064\n",
      "Energy: {('MainMemory', 'read'): 241591910400.0, ('GlobalBuffer', 'read'): 33186675425280.0, ('GlobalBuffer', 'write'): 722628247552.0, ('MainMemory', 'write'): 1073741824.0, ('MACC', 'compute'): 768756196311.04}\n"
     ]
    }
   ],
   "source": [
    "stats = run_looptree(\n",
    "    Path('configs'),\n",
    "    [architecture, fc_workload, fc_mapping],\n",
    "    Path('tmp'),\n",
    "    bindings,\n",
    "    call_accelergy=True\n",
    ")\n",
    "print('Latency:', stats.latency)\n",
    "print('Energy:', stats.energy)"
   ]
  },
  {
   "cell_type": "markdown",
   "id": "f9ea8cf3-0280-4ee4-85f2-d316836f8667",
   "metadata": {},
   "source": [
    "# 8 GPUs\n"
   ]
  },
  {
   "cell_type": "code",
   "execution_count": 11,
   "id": "46aaf11a-dc16-4cb6-8a50-62c811df3a52",
   "metadata": {},
   "outputs": [
    {
     "name": "stdout",
     "output_type": "stream",
     "text": [
      "Latency: 4718592\n",
      "Energy: {('MainMemory', 'read'): 1114678231040.0, ('GlobalBuffer', 'read'): 6600290992128.0, ('GlobalBuffer', 'write'): 1958639304704.0, ('MainMemory', 'write'): 292057776128.0, ('MACC', 'compute'): 82366735319.04001}\n"
     ]
    }
   ],
   "source": [
    "stats = run_looptree(\n",
    "    Path('configs'),\n",
    "    [architecture, transformer_workload, transformer_mapping],\n",
    "    Path('tmp'),\n",
    "    bindings,\n",
    "    call_accelergy=True\n",
    ")\n",
    "print('Latency:', stats.latency)\n",
    "print('Energy:', stats.energy)"
   ]
  },
  {
   "cell_type": "code",
   "execution_count": 12,
   "id": "e61426ca-35a5-4c33-8491-26b3b7a78862",
   "metadata": {},
   "outputs": [
    {
     "name": "stdout",
     "output_type": "stream",
     "text": [
      "Latency: 29360128\n",
      "Energy: {('MainMemory', 'read'): 241591910400.0, ('GlobalBuffer', 'read'): 35110820773888.0, ('GlobalBuffer', 'write'): 722628247552.0, ('MainMemory', 'write'): 1073741824.0, ('MACC', 'compute'): 768756196311.04}\n"
     ]
    }
   ],
   "source": [
    "stats = run_looptree(\n",
    "    Path('configs'),\n",
    "    [architecture, fc_workload, fc_mapping],\n",
    "    Path('tmp'),\n",
    "    bindings,\n",
    "    call_accelergy=True\n",
    ")\n",
    "print('Latency:', stats.latency)\n",
    "print('Energy:', stats.energy)"
   ]
  },
  {
   "cell_type": "markdown",
   "id": "8f079da8-1fdd-4322-bb01-61319a401964",
   "metadata": {},
   "source": [
    "# 4 GPUs"
   ]
  },
  {
   "cell_type": "code",
   "execution_count": 9,
   "id": "4e0b67c3-797b-436d-a202-6990948213ac",
   "metadata": {},
   "outputs": [
    {
     "name": "stdout",
     "output_type": "stream",
     "text": [
      "Latency: 6291456\n",
      "Energy: {('MainMemory', 'read'): 1114678231040.0, ('GlobalBuffer', 'read'): 6601364733952.0, ('GlobalBuffer', 'write'): 1958639304704.0, ('MainMemory', 'write'): 292057776128.0, ('MACC', 'compute'): 82366735319.04001}\n"
     ]
    }
   ],
   "source": [
    "stats = run_looptree(\n",
    "    Path('configs'),\n",
    "    [architecture, transformer_workload, transformer_mapping],\n",
    "    Path('tmp'),\n",
    "    bindings,\n",
    "    call_accelergy=True\n",
    ")\n",
    "print('Latency:', stats.latency)\n",
    "print('Energy:', stats.energy)"
   ]
  },
  {
   "cell_type": "code",
   "execution_count": 4,
   "id": "7cf8b8fe-d58c-4603-8070-bee85492ae05",
   "metadata": {},
   "outputs": [
    {
     "name": "stdout",
     "output_type": "stream",
     "text": [
      "Latency: 58720256\n",
      "Energy: {('MainMemory', 'read'): 241591910400.0, ('GlobalBuffer', 'read'): 38959111471104.0, ('GlobalBuffer', 'write'): 722628247552.0, ('MainMemory', 'write'): 1073741824.0, ('MACC', 'compute'): 768756196311.04}\n"
     ]
    }
   ],
   "source": [
    "stats = run_looptree(\n",
    "    Path('configs'),\n",
    "    [architecture, fc_workload, fc_mapping],\n",
    "    Path('tmp'),\n",
    "    bindings,\n",
    "    call_accelergy=True\n",
    ")\n",
    "print('Latency:', stats.latency)\n",
    "print('Energy:', stats.energy)"
   ]
  },
  {
   "cell_type": "markdown",
   "id": "2acb07cb-af0f-4a0e-ba5d-bdee63c0ef1a",
   "metadata": {},
   "source": [
    "# 6 GPUs"
   ]
  },
  {
   "cell_type": "code",
   "execution_count": 10,
   "id": "56108371-f5ec-483d-99cb-b9501e962e17",
   "metadata": {},
   "outputs": [
    {
     "name": "stdout",
     "output_type": "stream",
     "text": [
      "Latency: 4718592\n",
      "Energy: {('MainMemory', 'read'): 1114678231040.0, ('GlobalBuffer', 'read'): 6600290992128.0, ('GlobalBuffer', 'write'): 1958639304704.0, ('MainMemory', 'write'): 292057776128.0, ('MACC', 'compute'): 82366735319.04001}\n"
     ]
    }
   ],
   "source": [
    "stats = run_looptree(\n",
    "    Path('configs'),\n",
    "    [architecture, transformer_workload, transformer_mapping],\n",
    "    Path('tmp'),\n",
    "    bindings,\n",
    "    call_accelergy=True\n",
    ")\n",
    "print('Latency:', stats.latency)\n",
    "print('Energy:', stats.energy)"
   ]
  },
  {
   "cell_type": "code",
   "execution_count": 27,
   "id": "92dbb6e3-4386-4d94-8355-38702a9f3291",
   "metadata": {},
   "outputs": [
    {
     "name": "stdout",
     "output_type": "stream",
     "text": [
      "Latency: 40370176\n",
      "Energy: {('MainMemory', 'read'): 241591910400.0, ('GlobalBuffer', 'read'): 36553929785344.0, ('GlobalBuffer', 'write'): 722628247552.0, ('MainMemory', 'write'): 1073741824.0, ('MACC', 'compute'): 768756196311.04}\n"
     ]
    }
   ],
   "source": [
    "stats = run_looptree(\n",
    "    Path('configs'),\n",
    "    [architecture, fc_workload, fc_mapping],\n",
    "    Path('tmp'),\n",
    "    bindings,\n",
    "    call_accelergy=True\n",
    ")\n",
    "print('Latency:', stats.latency)\n",
    "print('Energy:', stats.energy)"
   ]
  },
  {
   "cell_type": "markdown",
   "id": "b82feb8e-4750-4eac-b1b4-d8387a58b318",
   "metadata": {},
   "source": [
    "# 10 GPUs"
   ]
  },
  {
   "cell_type": "code",
   "execution_count": 8,
   "id": "ae26513c-616b-4b24-b35d-e2216ed7f12f",
   "metadata": {},
   "outputs": [
    {
     "name": "stdout",
     "output_type": "stream",
     "text": [
      "Latency: 3145728\n",
      "Energy: {('MainMemory', 'read'): 1114678231040.0, ('GlobalBuffer', 'read'): 6599217250304.0, ('GlobalBuffer', 'write'): 1958639304704.0, ('MainMemory', 'write'): 292057776128.0, ('MACC', 'compute'): 82366735319.04001}\n"
     ]
    }
   ],
   "source": [
    "stats = run_looptree(\n",
    "    Path('configs'),\n",
    "    [architecture, transformer_workload, transformer_mapping],\n",
    "    Path('tmp'),\n",
    "    bindings,\n",
    "    call_accelergy=True\n",
    ")\n",
    "print('Latency:', stats.latency)\n",
    "print('Energy:', stats.energy)"
   ]
  },
  {
   "cell_type": "code",
   "execution_count": 29,
   "id": "cc5b99f3-4113-4d64-84ee-517a97bde28e",
   "metadata": {},
   "outputs": [
    {
     "name": "stdout",
     "output_type": "stream",
     "text": [
      "Latency: 23855104\n",
      "Energy: {('MainMemory', 'read'): 241591910400.0, ('GlobalBuffer', 'read'): 34389266268160.0, ('GlobalBuffer', 'write'): 722628247552.0, ('MainMemory', 'write'): 1073741824.0, ('MACC', 'compute'): 768756196311.04}\n"
     ]
    }
   ],
   "source": [
    "stats = run_looptree(\n",
    "    Path('configs'),\n",
    "    [architecture, fc_workload, fc_mapping],\n",
    "    Path('tmp'),\n",
    "    bindings,\n",
    "    call_accelergy=True\n",
    ")\n",
    "print('Latency:', stats.latency)\n",
    "print('Energy:', stats.energy)"
   ]
  },
  {
   "cell_type": "markdown",
   "id": "b2e58b5b-8ea9-4a1d-816a-a67775990cc0",
   "metadata": {},
   "source": [
    "12"
   ]
  },
  {
   "cell_type": "code",
   "execution_count": 18,
   "id": "d1fda9b3-46c7-4e20-9202-f61a60fc80fd",
   "metadata": {},
   "outputs": [
    {
     "name": "stdout",
     "output_type": "stream",
     "text": [
      "Latency: 1572864\n",
      "Energy: {('MainMemory', 'read'): 7694803009536.0, ('GlobalBuffer', 'read'): 805306368.0, ('GlobalBuffer', 'write'): 100663296.0, ('MainMemory', 'write'): 2216203124736.0, ('MACC', 'compute'): 82366735319.04001}\n"
     ]
    }
   ],
   "source": [
    "stats = run_looptree(\n",
    "    Path('configs'),\n",
    "    [architecture, transformer_workload, transformer_mapping],\n",
    "    Path('tmp'),\n",
    "    bindings,\n",
    "    call_accelergy=True\n",
    ")\n",
    "print('Latency:', stats.latency)\n",
    "print('Energy:', stats.energy)"
   ]
  },
  {
   "cell_type": "code",
   "execution_count": null,
   "id": "8691664d-8d7d-4f1c-bc1d-b7a7de50107b",
   "metadata": {},
   "outputs": [],
   "source": []
  },
  {
   "cell_type": "code",
   "execution_count": null,
   "id": "caad306d-aefd-408e-bc27-0dc914626213",
   "metadata": {},
   "outputs": [],
   "source": []
  }
 ],
 "metadata": {
  "kernelspec": {
   "display_name": "Python 3 (ipykernel)",
   "language": "python",
   "name": "python3"
  },
  "language_info": {
   "codemirror_mode": {
    "name": "ipython",
    "version": 3
   },
   "file_extension": ".py",
   "mimetype": "text/x-python",
   "name": "python",
   "nbconvert_exporter": "python",
   "pygments_lexer": "ipython3",
   "version": "3.10.12"
  }
 },
 "nbformat": 4,
 "nbformat_minor": 5
}

{
 "cells": [
  {
   "cell_type": "code",
   "execution_count": 2,
   "id": "fccb7e95-8000-413b-b54a-61104be626ce",
   "metadata": {},
   "outputs": [],
   "source": [
    "from pathlib import Path\n",
    "from pytimeloop.looptree.run import run_looptree\n",
    "\n",
    "architecture = 'Configs/gpu.yaml'\n",
    "transformer_workload = 'Configs/transformer.workload.yaml'\n",
    "transformer_mapping = 'Configs/data_parallel_transformer.mapping.yaml'\n",
    "fc_mapping = 'Configs/data_parallel_fc.mapping.yaml'\n",
    "fc_workload = 'Configs/two_fc.workload.yaml'\n",
    "\n",
    "bindings = {\n",
    "    0: 'MainMemory',\n",
    "    1: 'GlobalBuffer',\n",
    "    2: 'MACC'\n",
    "}"
   ]
  },
  {
   "cell_type": "markdown",
   "id": "0723b754-ff3e-40f2-9297-ad5a41ce0bbb",
   "metadata": {},
   "source": [
    "# 16 GPUs"
   ]
  },
  {
   "cell_type": "code",
   "execution_count": 5,
   "id": "a7933d49-e06c-43f5-a58f-8f70cbf81106",
   "metadata": {},
   "outputs": [
    {
     "name": "stdout",
     "output_type": "stream",
     "text": [
      "Latency: 1572864\n",
      "Energy: {('MainMemory', 'read'): 7694803009536.0, ('GlobalBuffer', 'read'): 805306368.0, ('GlobalBuffer', 'write'): 100663296.0, ('MainMemory', 'write'): 2216203124736.0, ('MACC', 'compute'): 82366735319.04001}\n"
     ]
    }
   ],
   "source": [
    "stats = run_looptree(\n",
    "    Path('configs'),\n",
    "    [architecture, transformer_workload, transformer_mapping],\n",
    "    Path('tmp'),\n",
    "    bindings,\n",
    "    call_accelergy=True\n",
    ")\n",
    "print('Latency:', stats.latency)\n",
    "print('Energy:', stats.energy)"
   ]
  },
  {
   "cell_type": "code",
   "execution_count": 3,
   "id": "3d7721d3-71aa-4b69-8bc8-b8235ffc6ca8",
   "metadata": {},
   "outputs": [
    {
     "name": "stdout",
     "output_type": "stream",
     "text": [
      "Latency: 14680064\n",
      "Energy: {('MainMemory', 'read'): 241591910400.0, ('GlobalBuffer', 'read'): 33186675425280.0, ('GlobalBuffer', 'write'): 722628247552.0, ('MainMemory', 'write'): 1073741824.0, ('MACC', 'compute'): 768756196311.04}\n"
     ]
    }
   ],
   "source": [
    "stats = run_looptree(\n",
    "    Path('configs'),\n",
    "    [architecture, fc_workload, fc_mapping],\n",
    "    Path('tmp'),\n",
    "    bindings,\n",
    "    call_accelergy=True\n",
    ")\n",
    "print('Latency:', stats.latency)\n",
    "print('Energy:', stats.energy)"
   ]
  },
  {
   "cell_type": "markdown",
   "id": "f9ea8cf3-0280-4ee4-85f2-d316836f8667",
   "metadata": {},
   "source": [
    "# 8 GPUs\n"
   ]
  },
  {
   "cell_type": "code",
   "execution_count": 6,
   "id": "46aaf11a-dc16-4cb6-8a50-62c811df3a52",
   "metadata": {},
   "outputs": [
    {
     "name": "stdout",
     "output_type": "stream",
     "text": [
      "Latency: 3145728\n",
      "Energy: {('MainMemory', 'read'): 7695071444992.0, ('GlobalBuffer', 'read'): 1610612736.0, ('GlobalBuffer', 'write'): 100663296.0, ('MainMemory', 'write'): 2216203124736.0, ('MACC', 'compute'): 82366735319.04001}\n"
     ]
    }
   ],
   "source": [
    "stats = run_looptree(\n",
    "    Path('configs'),\n",
    "    [architecture, transformer_workload, transformer_mapping],\n",
    "    Path('tmp'),\n",
    "    bindings,\n",
    "    call_accelergy=True\n",
    ")\n",
    "print('Latency:', stats.latency)\n",
    "print('Energy:', stats.energy)"
   ]
  },
  {
   "cell_type": "code",
   "execution_count": 4,
   "id": "e61426ca-35a5-4c33-8491-26b3b7a78862",
   "metadata": {},
   "outputs": [
    {
     "name": "stdout",
     "output_type": "stream",
     "text": [
      "Latency: 29360128\n",
      "Energy: {('MainMemory', 'read'): 241591910400.0, ('GlobalBuffer', 'read'): 35110820773888.0, ('GlobalBuffer', 'write'): 722628247552.0, ('MainMemory', 'write'): 1073741824.0, ('MACC', 'compute'): 768756196311.04}\n"
     ]
    }
   ],
   "source": [
    "stats = run_looptree(\n",
    "    Path('configs'),\n",
    "    [architecture, fc_workload, fc_mapping],\n",
    "    Path('tmp'),\n",
    "    bindings,\n",
    "    call_accelergy=True\n",
    ")\n",
    "print('Latency:', stats.latency)\n",
    "print('Energy:', stats.energy)"
   ]
  },
  {
   "cell_type": "markdown",
   "id": "8f079da8-1fdd-4322-bb01-61319a401964",
   "metadata": {},
   "source": [
    "# 4 GPUs"
   ]
  },
  {
   "cell_type": "code",
   "execution_count": 5,
   "id": "4e0b67c3-797b-436d-a202-6990948213ac",
   "metadata": {},
   "outputs": [
    {
     "name": "stdout",
     "output_type": "stream",
     "text": [
      "Latency: 6291456\n",
      "Energy: {('MainMemory', 'read'): 7695608315904.0, ('GlobalBuffer', 'read'): 3221225472.0, ('GlobalBuffer', 'write'): 100663296.0, ('MainMemory', 'write'): 2216203124736.0, ('MACC', 'compute'): 82366735319.04001}\n"
     ]
    }
   ],
   "source": [
    "stats = run_looptree(\n",
    "    Path('configs'),\n",
    "    [architecture, transformer_workload, transformer_mapping],\n",
    "    Path('tmp'),\n",
    "    bindings,\n",
    "    call_accelergy=True\n",
    ")\n",
    "print('Latency:', stats.latency)\n",
    "print('Energy:', stats.energy)"
   ]
  },
  {
   "cell_type": "code",
   "execution_count": 4,
   "id": "7cf8b8fe-d58c-4603-8070-bee85492ae05",
   "metadata": {},
   "outputs": [
    {
     "name": "stdout",
     "output_type": "stream",
     "text": [
      "Latency: 58720256\n",
      "Energy: {('MainMemory', 'read'): 241591910400.0, ('GlobalBuffer', 'read'): 38959111471104.0, ('GlobalBuffer', 'write'): 722628247552.0, ('MainMemory', 'write'): 1073741824.0, ('MACC', 'compute'): 768756196311.04}\n"
     ]
    }
   ],
   "source": [
    "stats = run_looptree(\n",
    "    Path('configs'),\n",
    "    [architecture, fc_workload, fc_mapping],\n",
    "    Path('tmp'),\n",
    "    bindings,\n",
    "    call_accelergy=True\n",
    ")\n",
    "print('Latency:', stats.latency)\n",
    "print('Energy:', stats.energy)"
   ]
  },
  {
   "cell_type": "code",
   "execution_count": null,
   "id": "4d4f4137-d43b-455b-bc17-e0f6f4150630",
   "metadata": {},
   "outputs": [],
   "source": []
  }
 ],
 "metadata": {
  "kernelspec": {
   "display_name": "Python 3 (ipykernel)",
   "language": "python",
   "name": "python3"
  },
  "language_info": {
   "codemirror_mode": {
    "name": "ipython",
    "version": 3
   },
   "file_extension": ".py",
   "mimetype": "text/x-python",
   "name": "python",
   "nbconvert_exporter": "python",
   "pygments_lexer": "ipython3",
   "version": "3.10.12"
  }
 },
 "nbformat": 4,
 "nbformat_minor": 5
}

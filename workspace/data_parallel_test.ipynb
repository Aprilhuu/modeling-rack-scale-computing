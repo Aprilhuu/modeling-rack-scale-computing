{
 "cells": [
  {
   "cell_type": "code",
   "execution_count": 37,
   "id": "fccb7e95-8000-413b-b54a-61104be626ce",
   "metadata": {},
   "outputs": [],
   "source": [
    "from pathlib import Path\n",
    "from pytimeloop.looptree.run import run_looptree\n",
    "\n",
    "architecture = 'Configs/gpu.yaml'\n",
    "transformer_workload = 'Configs/transformer.workload.yaml'\n",
    "transformer_mapping = 'Configs/data_parallel_transformer.mapping.yaml'\n",
    "fc_mapping = 'Configs/data_parallel_fc.mapping.yaml'\n",
    "fc_workload = 'Configs/two_fc.workload.yaml'\n",
    "\n",
    "bindings = {\n",
    "    0: 'MainMemory',\n",
    "    1: 'GlobalBuffer',\n",
    "    2: 'MACC'\n",
    "}"
   ]
  },
  {
   "cell_type": "markdown",
   "id": "0723b754-ff3e-40f2-9297-ad5a41ce0bbb",
   "metadata": {},
   "source": [
    "# 16 GPUs"
   ]
  },
  {
   "cell_type": "code",
   "execution_count": 38,
   "id": "a7933d49-e06c-43f5-a58f-8f70cbf81106",
   "metadata": {},
   "outputs": [
    {
     "ename": "IndexError",
     "evalue": "map::at",
     "output_type": "error",
     "traceback": [
      "\u001b[0;31m---------------------------------------------------------------------------\u001b[0m",
      "\u001b[0;31mIndexError\u001b[0m                                Traceback (most recent call last)",
      "Cell \u001b[0;32mIn[38], line 1\u001b[0m\n\u001b[0;32m----> 1\u001b[0m stats \u001b[38;5;241m=\u001b[39m \u001b[43mrun_looptree\u001b[49m\u001b[43m(\u001b[49m\n\u001b[1;32m      2\u001b[0m \u001b[43m    \u001b[49m\u001b[43mPath\u001b[49m\u001b[43m(\u001b[49m\u001b[38;5;124;43m'\u001b[39;49m\u001b[38;5;124;43mconfigs\u001b[39;49m\u001b[38;5;124;43m'\u001b[39;49m\u001b[43m)\u001b[49m\u001b[43m,\u001b[49m\n\u001b[1;32m      3\u001b[0m \u001b[43m    \u001b[49m\u001b[43m[\u001b[49m\u001b[43marchitecture\u001b[49m\u001b[43m,\u001b[49m\u001b[43m \u001b[49m\u001b[43mtransformer_workload\u001b[49m\u001b[43m,\u001b[49m\u001b[43m \u001b[49m\u001b[43mtransformer_mapping\u001b[49m\u001b[43m]\u001b[49m\u001b[43m,\u001b[49m\n\u001b[1;32m      4\u001b[0m \u001b[43m    \u001b[49m\u001b[43mPath\u001b[49m\u001b[43m(\u001b[49m\u001b[38;5;124;43m'\u001b[39;49m\u001b[38;5;124;43mtmp\u001b[39;49m\u001b[38;5;124;43m'\u001b[39;49m\u001b[43m)\u001b[49m\u001b[43m,\u001b[49m\n\u001b[1;32m      5\u001b[0m \u001b[43m    \u001b[49m\u001b[43mbindings\u001b[49m\u001b[43m,\u001b[49m\n\u001b[1;32m      6\u001b[0m \u001b[43m    \u001b[49m\u001b[43mcall_accelergy\u001b[49m\u001b[38;5;241;43m=\u001b[39;49m\u001b[38;5;28;43;01mTrue\u001b[39;49;00m\n\u001b[1;32m      7\u001b[0m \u001b[43m)\u001b[49m\n\u001b[1;32m      8\u001b[0m \u001b[38;5;28mprint\u001b[39m(\u001b[38;5;124m'\u001b[39m\u001b[38;5;124mLatency:\u001b[39m\u001b[38;5;124m'\u001b[39m, stats\u001b[38;5;241m.\u001b[39mlatency)\n\u001b[1;32m      9\u001b[0m \u001b[38;5;28mprint\u001b[39m(\u001b[38;5;124m'\u001b[39m\u001b[38;5;124mEnergy:\u001b[39m\u001b[38;5;124m'\u001b[39m, stats\u001b[38;5;241m.\u001b[39menergy)\n",
      "File \u001b[0;32m/usr/local/lib/python3.10/dist-packages/pytimeloop/looptree/run.py:48\u001b[0m, in \u001b[0;36mrun_looptree\u001b[0;34m(config_dir, paths, tmp_path, bindings, call_accelergy)\u001b[0m\n\u001b[1;32m     43\u001b[0m     call_accelergy_verbose(spec, tmp_path)\n\u001b[1;32m     44\u001b[0m     spec \u001b[38;5;241m=\u001b[39m Specification\u001b[38;5;241m.\u001b[39mfrom_yaml_files([\n\u001b[1;32m     45\u001b[0m         \u001b[38;5;28mstr\u001b[39m(config_dir \u001b[38;5;241m/\u001b[39m p) \u001b[38;5;28;01mfor\u001b[39;00m p \u001b[38;5;129;01min\u001b[39;00m paths\n\u001b[1;32m     46\u001b[0m     ] \u001b[38;5;241m+\u001b[39m [\u001b[38;5;28mstr\u001b[39m(Path(tmp_path) \u001b[38;5;241m/\u001b[39m \u001b[38;5;124m'\u001b[39m\u001b[38;5;124mERT.yaml\u001b[39m\u001b[38;5;124m'\u001b[39m)])\n\u001b[0;32m---> 48\u001b[0m result \u001b[38;5;241m=\u001b[39m deserialize_looptree_output(\u001b[43mmodel\u001b[49m\u001b[38;5;241;43m.\u001b[39;49m\u001b[43mrun\u001b[49m\u001b[43m(\u001b[49m\u001b[43m)\u001b[49m, isl\u001b[38;5;241m.\u001b[39mDEFAULT_CONTEXT)\n\u001b[1;32m     50\u001b[0m actions \u001b[38;5;241m=\u001b[39m gather_actions(result, spec\u001b[38;5;241m.\u001b[39mmapping, workload, bindings)\n\u001b[1;32m     51\u001b[0m energy \u001b[38;5;241m=\u001b[39m compute_energy_from_actions(actions, spec\u001b[38;5;241m.\u001b[39mERT)\n",
      "\u001b[0;31mIndexError\u001b[0m: map::at"
     ]
    }
   ],
   "source": [
    "stats = run_looptree(\n",
    "    Path('configs'),\n",
    "    [architecture, transformer_workload, transformer_mapping],\n",
    "    Path('tmp'),\n",
    "    bindings,\n",
    "    call_accelergy=True\n",
    ")\n",
    "print('Latency:', stats.latency)\n",
    "print('Energy:', stats.energy)"
   ]
  },
  {
   "cell_type": "code",
   "execution_count": 24,
   "id": "3d7721d3-71aa-4b69-8bc8-b8235ffc6ca8",
   "metadata": {},
   "outputs": [
    {
     "ename": "RuntimeError",
     "evalue": "Could not find action read for component MACC",
     "output_type": "error",
     "traceback": [
      "\u001b[0;31m---------------------------------------------------------------------------\u001b[0m",
      "\u001b[0;31mRuntimeError\u001b[0m                              Traceback (most recent call last)",
      "Cell \u001b[0;32mIn[24], line 1\u001b[0m\n\u001b[0;32m----> 1\u001b[0m stats \u001b[38;5;241m=\u001b[39m \u001b[43mrun_looptree\u001b[49m\u001b[43m(\u001b[49m\n\u001b[1;32m      2\u001b[0m \u001b[43m    \u001b[49m\u001b[43mPath\u001b[49m\u001b[43m(\u001b[49m\u001b[38;5;124;43m'\u001b[39;49m\u001b[38;5;124;43mconfigs\u001b[39;49m\u001b[38;5;124;43m'\u001b[39;49m\u001b[43m)\u001b[49m\u001b[43m,\u001b[49m\n\u001b[1;32m      3\u001b[0m \u001b[43m    \u001b[49m\u001b[43m[\u001b[49m\u001b[43marchitecture\u001b[49m\u001b[43m,\u001b[49m\u001b[43m \u001b[49m\u001b[43mfc_workload\u001b[49m\u001b[43m,\u001b[49m\u001b[43m \u001b[49m\u001b[43mfc_mapping\u001b[49m\u001b[43m]\u001b[49m\u001b[43m,\u001b[49m\n\u001b[1;32m      4\u001b[0m \u001b[43m    \u001b[49m\u001b[43mPath\u001b[49m\u001b[43m(\u001b[49m\u001b[38;5;124;43m'\u001b[39;49m\u001b[38;5;124;43mtmp\u001b[39;49m\u001b[38;5;124;43m'\u001b[39;49m\u001b[43m)\u001b[49m\u001b[43m,\u001b[49m\n\u001b[1;32m      5\u001b[0m \u001b[43m    \u001b[49m\u001b[43mbindings\u001b[49m\u001b[43m,\u001b[49m\n\u001b[1;32m      6\u001b[0m \u001b[43m    \u001b[49m\u001b[43mcall_accelergy\u001b[49m\u001b[38;5;241;43m=\u001b[39;49m\u001b[38;5;28;43;01mTrue\u001b[39;49;00m\n\u001b[1;32m      7\u001b[0m \u001b[43m)\u001b[49m\n\u001b[1;32m      8\u001b[0m \u001b[38;5;28mprint\u001b[39m(\u001b[38;5;124m'\u001b[39m\u001b[38;5;124mLatency:\u001b[39m\u001b[38;5;124m'\u001b[39m, stats\u001b[38;5;241m.\u001b[39mlatency)\n\u001b[1;32m      9\u001b[0m \u001b[38;5;28mprint\u001b[39m(\u001b[38;5;124m'\u001b[39m\u001b[38;5;124mEnergy:\u001b[39m\u001b[38;5;124m'\u001b[39m, stats\u001b[38;5;241m.\u001b[39menergy)\n",
      "File \u001b[0;32m/usr/local/lib/python3.10/dist-packages/pytimeloop/looptree/run.py:51\u001b[0m, in \u001b[0;36mrun_looptree\u001b[0;34m(config_dir, paths, tmp_path, bindings, call_accelergy)\u001b[0m\n\u001b[1;32m     48\u001b[0m result \u001b[38;5;241m=\u001b[39m deserialize_looptree_output(model\u001b[38;5;241m.\u001b[39mrun(), isl\u001b[38;5;241m.\u001b[39mDEFAULT_CONTEXT)\n\u001b[1;32m     50\u001b[0m actions \u001b[38;5;241m=\u001b[39m gather_actions(result, spec\u001b[38;5;241m.\u001b[39mmapping, workload, bindings)\n\u001b[0;32m---> 51\u001b[0m energy \u001b[38;5;241m=\u001b[39m \u001b[43mcompute_energy_from_actions\u001b[49m\u001b[43m(\u001b[49m\u001b[43mactions\u001b[49m\u001b[43m,\u001b[49m\u001b[43m \u001b[49m\u001b[43mspec\u001b[49m\u001b[38;5;241;43m.\u001b[39;49m\u001b[43mERT\u001b[49m\u001b[43m)\u001b[49m\n\u001b[1;32m     53\u001b[0m latency, comp_latency, mem_latency \u001b[38;5;241m=\u001b[39m get_latency(result,\n\u001b[1;32m     54\u001b[0m                                                  spec\u001b[38;5;241m.\u001b[39mmapping,\n\u001b[1;32m     55\u001b[0m                                                  workload,\n\u001b[1;32m     56\u001b[0m                                                  spec\u001b[38;5;241m.\u001b[39marchitecture,\n\u001b[1;32m     57\u001b[0m                                                  bindings)\n\u001b[1;32m     59\u001b[0m capacity_usage \u001b[38;5;241m=\u001b[39m compute_capacity_usage(spec\u001b[38;5;241m.\u001b[39mmapping\u001b[38;5;241m.\u001b[39mnodes,\n\u001b[1;32m     60\u001b[0m                                         result\u001b[38;5;241m.\u001b[39moccupancy,\n\u001b[1;32m     61\u001b[0m                                         workload)\n",
      "File \u001b[0;32m/usr/local/lib/python3.10/dist-packages/pytimeloop/looptree/energy.py:83\u001b[0m, in \u001b[0;36mcompute_energy_from_actions\u001b[0;34m(action_counts, ert)\u001b[0m\n\u001b[1;32m     81\u001b[0m action_table \u001b[38;5;241m=\u001b[39m component_table\u001b[38;5;241m.\u001b[39mfind_action(action)\n\u001b[1;32m     82\u001b[0m \u001b[38;5;28;01mif\u001b[39;00m action_table \u001b[38;5;129;01mis\u001b[39;00m \u001b[38;5;28;01mNone\u001b[39;00m:\n\u001b[0;32m---> 83\u001b[0m     \u001b[38;5;28;01mraise\u001b[39;00m \u001b[38;5;167;01mRuntimeError\u001b[39;00m(\n\u001b[1;32m     84\u001b[0m         \u001b[38;5;124mf\u001b[39m\u001b[38;5;124m'\u001b[39m\u001b[38;5;124mCould not find action \u001b[39m\u001b[38;5;132;01m{\u001b[39;00maction\u001b[38;5;132;01m}\u001b[39;00m\u001b[38;5;124m for component \u001b[39m\u001b[38;5;132;01m{\u001b[39;00mcomponent\u001b[38;5;132;01m}\u001b[39;00m\u001b[38;5;124m'\u001b[39m\n\u001b[1;32m     85\u001b[0m     )\n\u001b[1;32m     86\u001b[0m energy_per_ac \u001b[38;5;241m=\u001b[39m action_table\u001b[38;5;241m.\u001b[39menergy\n\u001b[1;32m     87\u001b[0m energy_result[(component, action)] \u001b[38;5;241m=\u001b[39m counts\u001b[38;5;241m*\u001b[39menergy_per_ac\n",
      "\u001b[0;31mRuntimeError\u001b[0m: Could not find action read for component MACC"
     ]
    }
   ],
   "source": [
    "stats = run_looptree(\n",
    "    Path('configs'),\n",
    "    [architecture, fc_workload, fc_mapping],\n",
    "    Path('tmp'),\n",
    "    bindings,\n",
    "    call_accelergy=True\n",
    ")\n",
    "print('Latency:', stats.latency)\n",
    "print('Energy:', stats.energy)"
   ]
  },
  {
   "cell_type": "markdown",
   "id": "f9ea8cf3-0280-4ee4-85f2-d316836f8667",
   "metadata": {},
   "source": [
    "# 8 GPUs\n"
   ]
  },
  {
   "cell_type": "code",
   "execution_count": 36,
   "id": "46aaf11a-dc16-4cb6-8a50-62c811df3a52",
   "metadata": {},
   "outputs": [
    {
     "name": "stdout",
     "output_type": "stream",
     "text": [
      "Latency: 201326592\n",
      "Energy: {('MainMemory', 'read'): 8879878438912.0, ('GlobalBuffer', 'read'): 34359738368.0, ('GlobalBuffer', 'write'): 33554432.0, ('MainMemory', 'write'): 3298534883328.0, ('MACC', 'compute'): 5274756710.4}\n"
     ]
    }
   ],
   "source": [
    "stats = run_looptree(\n",
    "    Path('configs'),\n",
    "    [architecture, transformer_workload, transformer_mapping],\n",
    "    Path('tmp'),\n",
    "    bindings,\n",
    "    call_accelergy=True\n",
    ")\n",
    "print('Latency:', stats.latency)\n",
    "print('Energy:', stats.energy)"
   ]
  },
  {
   "cell_type": "code",
   "execution_count": 8,
   "id": "e61426ca-35a5-4c33-8491-26b3b7a78862",
   "metadata": {},
   "outputs": [
    {
     "name": "stdout",
     "output_type": "stream",
     "text": [
      "Latency: 7700511.9855615385\n",
      "Energy: {('MainMemory', 'read'): 241591910400.0, ('GlobalBuffer', 'read'): 61572651155456.0, ('GlobalBuffer', 'write'): 246423748608.0, ('MainMemory', 'write'): 1073741824.0, ('MACC', 'compute'): 49231062630.4}\n"
     ]
    }
   ],
   "source": [
    "stats = run_looptree(\n",
    "    Path('configs'),\n",
    "    [architecture, fc_workload, fc_mapping],\n",
    "    Path('tmp'),\n",
    "    bindings,\n",
    "    call_accelergy=True\n",
    ")\n",
    "print('Latency:', stats.latency)\n",
    "print('Energy:', stats.energy)"
   ]
  },
  {
   "cell_type": "code",
   "execution_count": null,
   "id": "68dfe13a-93d1-424c-9f0c-7648e3d275c0",
   "metadata": {},
   "outputs": [],
   "source": []
  }
 ],
 "metadata": {
  "kernelspec": {
   "display_name": "Python 3 (ipykernel)",
   "language": "python",
   "name": "python3"
  },
  "language_info": {
   "codemirror_mode": {
    "name": "ipython",
    "version": 3
   },
   "file_extension": ".py",
   "mimetype": "text/x-python",
   "name": "python",
   "nbconvert_exporter": "python",
   "pygments_lexer": "ipython3",
   "version": "3.10.12"
  }
 },
 "nbformat": 4,
 "nbformat_minor": 5
}

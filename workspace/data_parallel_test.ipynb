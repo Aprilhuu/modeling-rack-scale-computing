{
 "cells": [
  {
   "cell_type": "code",
   "execution_count": 5,
   "id": "fccb7e95-8000-413b-b54a-61104be626ce",
   "metadata": {},
   "outputs": [],
   "source": [
    "from pathlib import Path\n",
    "from pytimeloop.looptree.run import run_looptree\n",
    "\n",
    "architecture = 'Configs/gpu.yaml'\n",
    "transformer_workload = 'Configs/transformer.workload.yaml'\n",
    "transformer_mapping = 'Configs/data_parallel_transformer.mapping.yaml'\n",
    "fc_mapping = 'Configs/data_parallel_fc.mapping.yaml'\n",
    "fc_workload = 'Configs/two_fc.workload.yaml'\n",
    "\n",
    "bindings = {\n",
    "    0: 'MainMemory',\n",
    "    1: 'GlobalBuffer',\n",
    "    2: 'MACC'\n",
    "}"
   ]
  },
  {
   "cell_type": "markdown",
   "id": "0723b754-ff3e-40f2-9297-ad5a41ce0bbb",
   "metadata": {},
   "source": [
    "# 16 GPUs"
   ]
  },
  {
   "cell_type": "code",
   "execution_count": 2,
   "id": "a7933d49-e06c-43f5-a58f-8f70cbf81106",
   "metadata": {},
   "outputs": [
    {
     "name": "stdout",
     "output_type": "stream",
     "text": [
      "Latency: 100663296\n",
      "Energy: {('MainMemory', 'read'): 8828338831360.0, ('GlobalBuffer', 'read'): 17179869184.0, ('GlobalBuffer', 'write'): 33554432.0, ('MainMemory', 'write'): 3298534883328.0, ('MACC', 'compute'): 5274756710.4}\n"
     ]
    }
   ],
   "source": [
    "stats = run_looptree(\n",
    "    Path('configs'),\n",
    "    [architecture, transformer_workload, transformer_mapping],\n",
    "    Path('tmp'),\n",
    "    bindings,\n",
    "    call_accelergy=True\n",
    ")\n",
    "print('Latency:', stats.latency)\n",
    "print('Energy:', stats.energy)"
   ]
  },
  {
   "cell_type": "code",
   "execution_count": 3,
   "id": "3d7721d3-71aa-4b69-8bc8-b8235ffc6ca8",
   "metadata": {},
   "outputs": [
    {
     "name": "stdout",
     "output_type": "stream",
     "text": [
      "Latency: 7700511.9855615385\n",
      "Energy: {('MainMemory', 'read'): 241591910400.0, ('GlobalBuffer', 'read'): 61572651155456.0, ('GlobalBuffer', 'write'): 246423748608.0, ('MainMemory', 'write'): 1073741824.0, ('MACC', 'compute'): 49231062630.4}\n"
     ]
    }
   ],
   "source": [
    "stats = run_looptree(\n",
    "    Path('configs'),\n",
    "    [architecture, fc_workload, fc_mapping],\n",
    "    Path('tmp'),\n",
    "    bindings,\n",
    "    call_accelergy=True\n",
    ")\n",
    "print('Latency:', stats.latency)\n",
    "print('Energy:', stats.energy)"
   ]
  },
  {
   "cell_type": "markdown",
   "id": "f9ea8cf3-0280-4ee4-85f2-d316836f8667",
   "metadata": {},
   "source": [
    "# 8 GPUs\n"
   ]
  },
  {
   "cell_type": "code",
   "execution_count": 7,
   "id": "46aaf11a-dc16-4cb6-8a50-62c811df3a52",
   "metadata": {},
   "outputs": [
    {
     "name": "stdout",
     "output_type": "stream",
     "text": [
      "Latency: 100663296\n",
      "Energy: {('MainMemory', 'read'): 8828338831360.0, ('GlobalBuffer', 'read'): 17179869184.0, ('GlobalBuffer', 'write'): 33554432.0, ('MainMemory', 'write'): 3298534883328.0, ('MACC', 'compute'): 5274756710.4}\n"
     ]
    }
   ],
   "source": [
    "stats = run_looptree(\n",
    "    Path('configs'),\n",
    "    [architecture, transformer_workload, transformer_mapping],\n",
    "    Path('tmp'),\n",
    "    bindings,\n",
    "    call_accelergy=True\n",
    ")\n",
    "print('Latency:', stats.latency)\n",
    "print('Energy:', stats.energy)"
   ]
  },
  {
   "cell_type": "code",
   "execution_count": 8,
   "id": "e61426ca-35a5-4c33-8491-26b3b7a78862",
   "metadata": {},
   "outputs": [
    {
     "name": "stdout",
     "output_type": "stream",
     "text": [
      "Latency: 7700511.9855615385\n",
      "Energy: {('MainMemory', 'read'): 241591910400.0, ('GlobalBuffer', 'read'): 61572651155456.0, ('GlobalBuffer', 'write'): 246423748608.0, ('MainMemory', 'write'): 1073741824.0, ('MACC', 'compute'): 49231062630.4}\n"
     ]
    }
   ],
   "source": [
    "stats = run_looptree(\n",
    "    Path('configs'),\n",
    "    [architecture, fc_workload, fc_mapping],\n",
    "    Path('tmp'),\n",
    "    bindings,\n",
    "    call_accelergy=True\n",
    ")\n",
    "print('Latency:', stats.latency)\n",
    "print('Energy:', stats.energy)"
   ]
  },
  {
   "cell_type": "code",
   "execution_count": null,
   "id": "68dfe13a-93d1-424c-9f0c-7648e3d275c0",
   "metadata": {},
   "outputs": [],
   "source": []
  }
 ],
 "metadata": {
  "kernelspec": {
   "display_name": "Python 3 (ipykernel)",
   "language": "python",
   "name": "python3"
  },
  "language_info": {
   "codemirror_mode": {
    "name": "ipython",
    "version": 3
   },
   "file_extension": ".py",
   "mimetype": "text/x-python",
   "name": "python",
   "nbconvert_exporter": "python",
   "pygments_lexer": "ipython3",
   "version": "3.10.12"
  }
 },
 "nbformat": 4,
 "nbformat_minor": 5
}
